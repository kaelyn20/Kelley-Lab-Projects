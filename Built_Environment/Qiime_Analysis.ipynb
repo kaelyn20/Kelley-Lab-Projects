{
 "cells": [
  {
   "cell_type": "markdown",
   "id": "769d7029",
   "metadata": {},
   "source": [
    "16S Sequencing Clean-up"
   ]
  },
  {
   "cell_type": "code",
   "execution_count": null,
   "id": "b850300b",
   "metadata": {},
   "outputs": [],
   "source": [
    "%%bash\n",
    "#Import Raw Sequence data into qiime\n",
    "qiime tools import   \n",
    "--type MultiplexedSingleEndBarcodeInSequence  \\\n",
    "--input-path seqs/   \\\n",
    "--output-path multiplexed_seqs.qza\n",
    "\n",
    "#Demultiplex sequences (use barcodes to determine which sequences belong to which sample)\n",
    "qiime cutadapt demux-single  \\\n",
    "--i-seqs multiplexed_seqs.qza  \\\n",
    "--m-barcodes-file metadata.tsv   \\\n",
    "--m-barcodes-column barcodes   \\\n",
    "--p-error-rate 0   \\\n",
    "--o-per-sample-sequences demultiplexed-seqs.qza   \\\n",
    "--o-untrimmed-sequences untrimmed.qza\n",
    "\n",
    "#Check quality of sequences\n",
    "qiime demux summarize \\\n",
    "  --i-data demultiplexed-seqs.qza \\\n",
    "  --o-visualization demux.qzv\n",
    "\n",
    "mkdir trim250\n",
    "\n",
    "#Trim sequences to include sequences where mean is ~>30 (determined by looking at demux.qzv)\n",
    "qiime dada2 denoise-single \\\n",
    "--i-demultiplexed-seqs demultiplexed-seqs.qza \\\n",
    "--p-trim-left 0 --p-trunc-len 250 \\\n",
    "--o-representative-sequences trim250/repseqs.qza \\\n",
    "--o-table trim250/table.qza \\\n",
    "--o-denoising-stats stats-dada2.qza"
   ]
  },
  {
   "cell_type": "markdown",
   "id": "880263fc",
   "metadata": {},
   "source": [
    "16S Basic Analysis"
   ]
  },
  {
   "cell_type": "code",
   "execution_count": null,
   "id": "a68128e2",
   "metadata": {},
   "outputs": [],
   "source": [
    "%%bash\n",
    "wget https://data.qiime2.org/2022.8/common/silva-138-99-515-806-nb-classifier.qza\n",
    "\n",
    "#Assign Taxonomy using silva classifier\n",
    "qiime feature-classifier classify-sklearn \\\n",
    "--i-classifier silva-138-99-515-806-nb-classifier.qza \\\n",
    "--i-reads trim250/repseqs.qza \\\n",
    "--o-classification trim250/taxonomy.qza\n",
    "\n",
    "cd trim250/\n",
    "\n",
    "#Create taxa feature table to assign taxonomy (exclude mitochondria and chloroplasts)\n",
    "qiime taxa filter-table --i-table table.qza -\\\n",
    "-i-taxonomy taxonomy.qza \\\n",
    "--p-exclude mitochondria,chloroplast \\\n",
    "--o-filtered-table ex-mito_ex-chloro.qza\n",
    "\n",
    "#Create barplot for visualization\n",
    "qiime taxa barplot \\\n",
    "--i-table ex-mito_ex-chloro.qza \\\n",
    "--i-taxonomy taxonomy.qza \\\n",
    "--m-metadata-file ../metadata.tsv \\\n",
    "--o-visualization nomitochloro.qzv\n",
    "\n",
    "#Visualize taxonomy in barplot\n",
    "qiime feature-table summarize \\\n",
    "--i-table table.qza \\\n",
    "--o-visualization 09-01_table.qzv \\\n",
    "--m-sample-metadata-file metadata.tsv\n",
    "\n",
    "#Calculate core diversity metrics\n",
    "qiime diversity core-metrics-phylogenetic \\\n",
    "--i-phylogeny rooted-tree.qza \\\n",
    "--i-table table.qza \\\n",
    "--p-sampling-depth 2000 \\\n",
    "--m-metadata-file metadata.tsv \\\n",
    "--output-dir core-metrics-results\n",
    "\n",
    "#Create Tree\n",
    "qiime phylogeny align-to-tree-mafft-fasttree \\\n",
    "--i-sequences repseqs.qza \\\n",
    "--o-alignment aligned-repseqs.qza \\\n",
    "--o-masked-alignment masked-align-repseqs.qza \\\n",
    "--o-tree unrooted-tree.qza \\\n",
    "--o-rooted-tree rooted-tree.qza\n",
    "\n",
    "#Faith's PD Alpha Diversity\n",
    "qiime diversity alpha-group-significance \\\n",
    "--i-alpha-diversity core-metrics-results/faith_pd_vector.qza \\\n",
    "--m-metadata-file metadata.tsv \\\n",
    "--o-visualization core-metrics-results/faithpd-group-sig.qzv\n",
    "\n",
    "#Evenness Alpha Diversity\n",
    "qiime diversity alpha-group-significance \\\n",
    "--i-alpha-diversity core-metrics-results/evenness_vector.qza \\\n",
    "--m-metadata-file metadata.tsv \\\n",
    "--o-visualization core-metrics-results/evenness-group-sig.qzv"
   ]
  },
  {
   "cell_type": "markdown",
   "id": "6c145479",
   "metadata": {},
   "source": [
    "ITS Sequencing Clean-up"
   ]
  },
  {
   "cell_type": "code",
   "execution_count": null,
   "id": "e7f3e777",
   "metadata": {},
   "outputs": [],
   "source": [
    "%%bash\n",
    "qiime tools import   \\\n",
    "--type MultiplexedSingleEndBarcodeInSequence   \\\n",
    "--input-path seqs/   \\\n",
    "--output-path multiplexed_seqs.qza\n",
    "\n",
    "qiime cutadapt demux-single   \\\n",
    "--i-seqs multiplexed_seqs.qza   \\\n",
    "--m-barcodes-file its_metadata.tsv   \\\n",
    "--m-barcodes-column barcodes   \\\n",
    "--p-error-rate 0   \\\n",
    "--o-per-sample-sequences demultiplexed-seqs.qza   \\\n",
    "--o-untrimmed-sequences untrimmed.qza\n",
    "\n",
    "qiime demux summarize \\\n",
    "--i-data demultiplexed-seqs.qza \\\n",
    "--o-visualization demultiplexed-seqs.qza\n",
    "\n",
    "qiime dada2 denoise-single \\\n",
    "--i-demultiplexed-seqs demultiplexed-seqs.qza \\\n",
    "--p-trim-left 0 \\\n",
    "--p-trunc-len 240 \n",
    "--o-representative-sequences trim240/repseqs.qza \\\n",
    "--o-table trim240/table.qza \\\n",
    "--o-denoising-stats stats-dada2.qza\\\n"
   ]
  },
  {
   "cell_type": "markdown",
   "id": "d4e39925",
   "metadata": {},
   "source": [
    "Unite Database Training"
   ]
  },
  {
   "cell_type": "code",
   "execution_count": null,
   "id": "a92c5e6f",
   "metadata": {},
   "outputs": [],
   "source": [
    "%%bash\n",
    "wget https://files.plutof.ut.ee/public/orig/C5/54/C5547B97AAA979E45F79DC4C8C4B12113389343D7588716B5AD330F8BDB300C9.tgz\n",
    "tar xzf C5547B97AAA979E45F79DC4C8C4B12113389343D7588716B5AD330F8BDB300C9.tgz\n",
    "cd sh_qiime_release_10.05.2021/developer/\n",
    "awk '/^>/ {print($0)}; /^[^>]/ {print(toupper($0))}' sh_refs_qiime_ver8_99_10.05.2021_dev.fasta | tr -d ' ' > sh_refs_qiime_ver8_99_10.05.2021_dev_uppercase.fasta\n",
    "\n",
    "qiime tools import \\\n",
    "--type FeatureData[Sequence] \\\n",
    "--input-path sh_refs_qiime_ver8_99_10.05.2021_dev.fasta \\\n",
    "--output-path unite-ver8-seqs_99_10.05.2021.qza\n",
    "\n",
    "qiime tools import \\\n",
    "--type FeatureData[Taxonomy] \\\n",
    "--input-path sh_taxonomy_qiime_ver8_99_10.05.2021_dev.txt \\\n",
    "--output-path unite-ver8-taxonomy_99_10-05-2021.qza \\\n",
    "--input-format HeaderlessTSVTaxonomyFormat\n",
    "\n",
    "qiime feature-classifier fit-classifier-naive-bayes \n",
    "--i-reference-reads unite-ver8-seqs_99_10.05.2021.qza \n",
    "--i-reference-taxonomy unite-ver8-taxonomy_99_10-05-2021.qza \n",
    "--o-classifier classifier.qza"
   ]
  },
  {
   "cell_type": "markdown",
   "id": "336f36ab",
   "metadata": {},
   "source": [
    "ITS Basic Analysis"
   ]
  },
  {
   "cell_type": "code",
   "execution_count": null,
   "id": "7a786c89",
   "metadata": {},
   "outputs": [],
   "source": [
    "%%bash\n",
    "cd trim240/\n",
    "\n",
    "qiime feature-classifier classify-sklearn \\\n",
    "--i-classifier ../classifier.qza \\\n",
    "--i-reads repseqs.qza \\\n",
    "--o-classification its_taxonomy.qza\n",
    "\n",
    "qiime taxa barplot \\\n",
    "--i-table table.qza \\\n",
    "--i-taxonomy its_taxonomy.qza \\\n",
    "--m-metadata-file ../its_metadata.tsv \n",
    "--o-visualization its_taxa_barplot.qzv"
   ]
  }
 ],
 "metadata": {
  "kernelspec": {
   "display_name": "Python 3 (ipykernel)",
   "language": "python",
   "name": "python3"
  },
  "language_info": {
   "codemirror_mode": {
    "name": "ipython",
    "version": 3
   },
   "file_extension": ".py",
   "mimetype": "text/x-python",
   "name": "python",
   "nbconvert_exporter": "python",
   "pygments_lexer": "ipython3",
   "version": "3.9.7"
  }
 },
 "nbformat": 4,
 "nbformat_minor": 5
}
